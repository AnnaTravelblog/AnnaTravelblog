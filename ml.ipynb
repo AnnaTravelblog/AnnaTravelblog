{
  "nbformat": 4,
  "nbformat_minor": 0,
  "metadata": {
    "colab": {
      "provenance": [],
      "authorship_tag": "ABX9TyOZP9EmZOgjEZjrUVpVngh1",
      "include_colab_link": true
    },
    "kernelspec": {
      "name": "python3",
      "display_name": "Python 3"
    },
    "language_info": {
      "name": "python"
    }
  },
  "cells": [
    {
      "cell_type": "markdown",
      "metadata": {
        "id": "view-in-github",
        "colab_type": "text"
      },
      "source": [
        "<a href=\"https://colab.research.google.com/github/AnnaTravelblog/AnnaTravelblog/blob/main/ml.ipynb\" target=\"_parent\"><img src=\"https://colab.research.google.com/assets/colab-badge.svg\" alt=\"Open In Colab\"/></a>"
      ]
    },
    {
      "cell_type": "code",
      "source": [
        "pip install  requests beautifulsoup4"
      ],
      "metadata": {
        "colab": {
          "base_uri": "https://localhost:8080/"
        },
        "id": "DiUQjh1Qrsxl",
        "outputId": "94e36ad4-c1e5-433a-de39-89c3d6ec2af8"
      },
      "execution_count": 43,
      "outputs": [
        {
          "output_type": "stream",
          "name": "stdout",
          "text": [
            "Requirement already satisfied: requests in /usr/local/lib/python3.10/dist-packages (2.31.0)\n",
            "Requirement already satisfied: beautifulsoup4 in /usr/local/lib/python3.10/dist-packages (4.12.3)\n",
            "Requirement already satisfied: charset-normalizer<4,>=2 in /usr/local/lib/python3.10/dist-packages (from requests) (3.3.2)\n",
            "Requirement already satisfied: idna<4,>=2.5 in /usr/local/lib/python3.10/dist-packages (from requests) (3.7)\n",
            "Requirement already satisfied: urllib3<3,>=1.21.1 in /usr/local/lib/python3.10/dist-packages (from requests) (2.0.7)\n",
            "Requirement already satisfied: certifi>=2017.4.17 in /usr/local/lib/python3.10/dist-packages (from requests) (2024.2.2)\n",
            "Requirement already satisfied: soupsieve>1.2 in /usr/local/lib/python3.10/dist-packages (from beautifulsoup4) (2.5)\n"
          ]
        }
      ]
    },
    {
      "cell_type": "code",
      "execution_count": 40,
      "metadata": {
        "colab": {
          "base_uri": "https://localhost:8080/"
        },
        "id": "ML9IiWUtGlHm",
        "outputId": "758bcc5a-e77d-4154-c364-3e53816776ce"
      },
      "outputs": [
        {
          "output_type": "stream",
          "name": "stdout",
          "text": [
            "   work_year experience_level employment_type             job_title  salary  \\\n",
            "0       2024               MI              FT        Data Scientist  120000   \n",
            "1       2024               MI              FT        Data Scientist   70000   \n",
            "2       2024               MI              CT        Data Scientist  130000   \n",
            "3       2024               MI              CT        Data Scientist  110000   \n",
            "4       2024               MI              FT  Data Science Manager  240000   \n",
            "\n",
            "  salary_currency  salary_in_usd employee_residence  remote_ratio  \\\n",
            "0             USD         120000                 AU             0   \n",
            "1             USD          70000                 AU             0   \n",
            "2             USD         130000                 US             0   \n",
            "3             USD         110000                 US             0   \n",
            "4             USD         240000                 US             0   \n",
            "\n",
            "  company_location company_size  \n",
            "0               AU            S  \n",
            "1               AU            S  \n",
            "2               US            M  \n",
            "3               US            M  \n",
            "4               US            M  \n",
            "<class 'pandas.core.frame.DataFrame'>\n",
            "RangeIndex: 16494 entries, 0 to 16493\n",
            "Data columns (total 11 columns):\n",
            " #   Column              Non-Null Count  Dtype \n",
            "---  ------              --------------  ----- \n",
            " 0   work_year           16494 non-null  int64 \n",
            " 1   experience_level    16494 non-null  object\n",
            " 2   employment_type     16494 non-null  object\n",
            " 3   job_title           16494 non-null  object\n",
            " 4   salary              16494 non-null  int64 \n",
            " 5   salary_currency     16494 non-null  object\n",
            " 6   salary_in_usd       16494 non-null  int64 \n",
            " 7   employee_residence  16494 non-null  object\n",
            " 8   remote_ratio        16494 non-null  int64 \n",
            " 9   company_location    16494 non-null  object\n",
            " 10  company_size        16494 non-null  object\n",
            "dtypes: int64(4), object(7)\n",
            "memory usage: 1.4+ MB\n",
            "None\n",
            "          work_year        salary  salary_in_usd  remote_ratio\n",
            "count  16494.000000  1.649400e+04   16494.000000  16494.000000\n",
            "mean    2023.224991  1.637878e+05  149713.575725     32.044986\n",
            "std        0.713405  3.406017e+05   68516.136918     46.260201\n",
            "min     2020.000000  1.400000e+04   15000.000000      0.000000\n",
            "25%     2023.000000  1.020000e+05  101517.500000      0.000000\n",
            "50%     2023.000000  1.422000e+05  141300.000000      0.000000\n",
            "75%     2024.000000  1.873422e+05  185900.000000    100.000000\n",
            "max     2024.000000  3.040000e+07  800000.000000    100.000000\n"
          ]
        }
      ],
      "source": [
        "import pandas as pd\n",
        "\n",
        "# Загрузка датасета из CSV файла\n",
        "df = pd.read_csv('salaries.csv')\n",
        "\n",
        "# Вывод первых нескольких строк датасета для ознакомления\n",
        "print(df.head())\n",
        "# Информация о данных\n",
        "print(df.info())\n",
        "\n",
        "# Описательная статистика для числовых столбцов\n",
        "print(df.describe())\n",
        "\n"
      ]
    },
    {
      "cell_type": "code",
      "source": [
        "import matplotlib.pyplot as plt\n",
        "import seaborn as sns\n",
        "\n",
        "# Например, построение гистограммы для переменной 'salary'\n",
        "plt.hist(df['salary'])\n",
        "plt.xlabel('Salary')\n",
        "plt.ylabel('Frequency')\n",
        "plt.title('Histogram of Salary')\n",
        "plt.show()\n",
        "\n"
      ],
      "metadata": {
        "id": "VenPKIseMTdk",
        "colab": {
          "base_uri": "https://localhost:8080/",
          "height": 472
        },
        "outputId": "482cb8b4-7ebb-4906-ed9f-93b8fd40a76b"
      },
      "execution_count": 41,
      "outputs": [
        {
          "output_type": "display_data",
          "data": {
            "text/plain": [
              "<Figure size 640x480 with 1 Axes>"
            ],
            "image/png": "[encoded data removed]"
          },
          "metadata": {}
        }
      ]
    },
    {
      "cell_type": "code",
      "source": [
        "import pandas as pd\n",
        "\n",
        "# Загрузка данных\n",
        "df = pd.read_csv(\"salaries.csv\")\n",
        "\n",
        "# Посмотрим на первые несколько строк данных\n",
        "print(df.head())\n",
        "\n",
        "# Общая информация о датасете\n",
        "print(df.info())\n",
        "\n",
        "# Статистика по числовым столбцам\n",
        "print(df.describe())\n",
        "\n",
        "# Проверка наличия дубликатов\n",
        "print(\"Количество дубликатов строк:\", df.duplicated().sum())\n",
        "\n",
        "# Проверка наличия пропущенных значений\n",
        "print(\"Пропущенные значения:\")\n",
        "print(df.isnull().sum())\n"
      ],
      "metadata": {
        "colab": {
          "base_uri": "https://localhost:8080/"
        },
        "id": "-SxDUzoZuJHG",
        "outputId": "6f3d69ed-dde1-4de5-cab9-56def1a92f37"
      },
      "execution_count": 45,
      "outputs": [
        {
          "output_type": "stream",
          "name": "stdout",
          "text": [
            "   work_year experience_level employment_type             job_title  salary  \\\n",
            "0       2024               MI              FT        Data Scientist  120000   \n",
            "1       2024               MI              FT        Data Scientist   70000   \n",
            "2       2024               MI              CT        Data Scientist  130000   \n",
            "3       2024               MI              CT        Data Scientist  110000   \n",
            "4       2024               MI              FT  Data Science Manager  240000   \n",
            "\n",
            "  salary_currency  salary_in_usd employee_residence  remote_ratio  \\\n",
            "0             USD         120000                 AU             0   \n",
            "1             USD          70000                 AU             0   \n",
            "2             USD         130000                 US             0   \n",
            "3             USD         110000                 US             0   \n",
            "4             USD         240000                 US             0   \n",
            "\n",
            "  company_location company_size  \n",
            "0               AU            S  \n",
            "1               AU            S  \n",
            "2               US            M  \n",
            "3               US            M  \n",
            "4               US            M  \n",
            "<class 'pandas.core.frame.DataFrame'>\n",
            "RangeIndex: 16494 entries, 0 to 16493\n",
            "Data columns (total 11 columns):\n",
            " #   Column              Non-Null Count  Dtype \n",
            "---  ------              --------------  ----- \n",
            " 0   work_year           16494 non-null  int64 \n",
            " 1   experience_level    16494 non-null  object\n",
            " 2   employment_type     16494 non-null  object\n",
            " 3   job_title           16494 non-null  object\n",
            " 4   salary              16494 non-null  int64 \n",
            " 5   salary_currency     16494 non-null  object\n",
            " 6   salary_in_usd       16494 non-null  int64 \n",
            " 7   employee_residence  16494 non-null  object\n",
            " 8   remote_ratio        16494 non-null  int64 \n",
            " 9   company_location    16494 non-null  object\n",
            " 10  company_size        16494 non-null  object\n",
            "dtypes: int64(4), object(7)\n",
            "memory usage: 1.4+ MB\n",
            "None\n",
            "          work_year        salary  salary_in_usd  remote_ratio\n",
            "count  16494.000000  1.649400e+04   16494.000000  16494.000000\n",
            "mean    2023.224991  1.637878e+05  149713.575725     32.044986\n",
            "std        0.713405  3.406017e+05   68516.136918     46.260201\n",
            "min     2020.000000  1.400000e+04   15000.000000      0.000000\n",
            "25%     2023.000000  1.020000e+05  101517.500000      0.000000\n",
            "50%     2023.000000  1.422000e+05  141300.000000      0.000000\n",
            "75%     2024.000000  1.873422e+05  185900.000000    100.000000\n",
            "max     2024.000000  3.040000e+07  800000.000000    100.000000\n",
            "Количество дубликатов строк: 6401\n",
            "Пропущенные значения:\n",
            "work_year             0\n",
            "experience_level      0\n",
            "employment_type       0\n",
            "job_title             0\n",
            "salary                0\n",
            "salary_currency       0\n",
            "salary_in_usd         0\n",
            "employee_residence    0\n",
            "remote_ratio          0\n",
            "company_location      0\n",
            "company_size          0\n",
            "dtype: int64\n"
          ]
        }
      ]
    },
    {
      "cell_type": "code",
      "source": [
        "# Переименование столбцов\n",
        "df.columns = ['work_year', 'experience_level', 'employment_type', 'job_title', 'salary', 'salary_currency', 'salary_in_usd', 'employee_residence', 'remote_ratio', 'company_location', 'company_size']\n",
        "\n",
        "# Удаление дубликатов строк\n",
        "df.drop_duplicates(inplace=True)\n",
        "\n",
        "# Проверка результатов\n",
        "print(\"Количество дубликатов строк после удаления:\", df.duplicated().sum())\n"
      ],
      "metadata": {
        "colab": {
          "base_uri": "https://localhost:8080/"
        },
        "id": "u-sB0qXhuvs2",
        "outputId": "9179e568-9ffb-43b9-8809-c265f23cd3c9"
      },
      "execution_count": 46,
      "outputs": [
        {
          "output_type": "stream",
          "name": "stdout",
          "text": [
            "Количество дубликатов строк после удаления: 0\n"
          ]
        }
      ]
    },
    {
      "cell_type": "code",
      "source": [
        "from sqlalchemy import create_engine\n",
        "\n",
        "# Создаем соединение с базой данных SQLite\n",
        "engine = create_engine('sqlite:///salaries.db', echo=True)  # 'sqlite:///salaries.db' - это путь к файлу базы данных SQLite\n",
        "\n",
        "# Загружаем данные в базу данных\n",
        "df.to_sql('salaries', con=engine, if_exists='replace', index=False)\n",
        "\n",
        "# Подтверждаем изменения и закрываем соединение\n",
        "engine.dispose()\n"
      ],
      "metadata": {
        "colab": {
          "base_uri": "https://localhost:8080/"
        },
        "id": "5JNt-l9KvGVM",
        "outputId": "8793877c-f91e-4791-de14-04b705abb78c"
      },
      "execution_count": 52,
      "outputs": [
        {
          "output_type": "stream",
          "name": "stdout",
          "text": [
            "2024-05-11 13:20:08,687 INFO sqlalchemy.engine.Engine BEGIN (implicit)\n"
          ]
        },
        {
          "output_type": "stream",
          "name": "stderr",
          "text": [
            "INFO:sqlalchemy.engine.Engine:BEGIN (implicit)\n"
          ]
        },
        {
          "output_type": "stream",
          "name": "stdout",
          "text": [
            "2024-05-11 13:20:08,702 INFO sqlalchemy.engine.Engine PRAGMA main.table_info(\"salaries\")\n"
          ]
        },
        {
          "output_type": "stream",
          "name": "stderr",
          "text": [
            "INFO:sqlalchemy.engine.Engine:PRAGMA main.table_info(\"salaries\")\n"
          ]
        },
        {
          "output_type": "stream",
          "name": "stdout",
          "text": [
            "2024-05-11 13:20:08,710 INFO sqlalchemy.engine.Engine [raw sql] ()\n"
          ]
        },
        {
          "output_type": "stream",
          "name": "stderr",
          "text": [
            "INFO:sqlalchemy.engine.Engine:[raw sql] ()\n"
          ]
        },
        {
          "output_type": "stream",
          "name": "stdout",
          "text": [
            "2024-05-11 13:20:08,716 INFO sqlalchemy.engine.Engine PRAGMA main.table_info(\"salaries\")\n"
          ]
        },
        {
          "output_type": "stream",
          "name": "stderr",
          "text": [
            "INFO:sqlalchemy.engine.Engine:PRAGMA main.table_info(\"salaries\")\n"
          ]
        },
        {
          "output_type": "stream",
          "name": "stdout",
          "text": [
            "2024-05-11 13:20:08,720 INFO sqlalchemy.engine.Engine [raw sql] ()\n"
          ]
        },
        {
          "output_type": "stream",
          "name": "stderr",
          "text": [
            "INFO:sqlalchemy.engine.Engine:[raw sql] ()\n"
          ]
        },
        {
          "output_type": "stream",
          "name": "stdout",
          "text": [
            "2024-05-11 13:20:08,724 INFO sqlalchemy.engine.Engine SELECT name FROM sqlite_master WHERE type='table' AND name NOT LIKE 'sqlite~_%' ESCAPE '~' ORDER BY name\n"
          ]
        },
        {
          "output_type": "stream",
          "name": "stderr",
          "text": [
            "INFO:sqlalchemy.engine.Engine:SELECT name FROM sqlite_master WHERE type='table' AND name NOT LIKE 'sqlite~_%' ESCAPE '~' ORDER BY name\n"
          ]
        },
        {
          "output_type": "stream",
          "name": "stdout",
          "text": [
            "2024-05-11 13:20:08,728 INFO sqlalchemy.engine.Engine [raw sql] ()\n"
          ]
        },
        {
          "output_type": "stream",
          "name": "stderr",
          "text": [
            "INFO:sqlalchemy.engine.Engine:[raw sql] ()\n"
          ]
        },
        {
          "output_type": "stream",
          "name": "stdout",
          "text": [
            "2024-05-11 13:20:08,733 INFO sqlalchemy.engine.Engine SELECT name FROM sqlite_temp_master WHERE type='table' AND name NOT LIKE 'sqlite~_%' ESCAPE '~' ORDER BY name\n"
          ]
        },
        {
          "output_type": "stream",
          "name": "stderr",
          "text": [
            "INFO:sqlalchemy.engine.Engine:SELECT name FROM sqlite_temp_master WHERE type='table' AND name NOT LIKE 'sqlite~_%' ESCAPE '~' ORDER BY name\n"
          ]
        },
        {
          "output_type": "stream",
          "name": "stdout",
          "text": [
            "2024-05-11 13:20:08,735 INFO sqlalchemy.engine.Engine [raw sql] ()\n"
          ]
        },
        {
          "output_type": "stream",
          "name": "stderr",
          "text": [
            "INFO:sqlalchemy.engine.Engine:[raw sql] ()\n"
          ]
        },
        {
          "output_type": "stream",
          "name": "stdout",
          "text": [
            "2024-05-11 13:20:08,738 INFO sqlalchemy.engine.Engine PRAGMA main.table_xinfo(\"salaries\")\n"
          ]
        },
        {
          "output_type": "stream",
          "name": "stderr",
          "text": [
            "INFO:sqlalchemy.engine.Engine:PRAGMA main.table_xinfo(\"salaries\")\n"
          ]
        },
        {
          "output_type": "stream",
          "name": "stdout",
          "text": [
            "2024-05-11 13:20:08,741 INFO sqlalchemy.engine.Engine [raw sql] ()\n"
          ]
        },
        {
          "output_type": "stream",
          "name": "stderr",
          "text": [
            "INFO:sqlalchemy.engine.Engine:[raw sql] ()\n"
          ]
        },
        {
          "output_type": "stream",
          "name": "stdout",
          "text": [
            "2024-05-11 13:20:08,747 INFO sqlalchemy.engine.Engine SELECT sql FROM  (SELECT * FROM sqlite_master UNION ALL   SELECT * FROM sqlite_temp_master) WHERE name = ? AND type in ('table', 'view')\n"
          ]
        },
        {
          "output_type": "stream",
          "name": "stderr",
          "text": [
            "INFO:sqlalchemy.engine.Engine:SELECT sql FROM  (SELECT * FROM sqlite_master UNION ALL   SELECT * FROM sqlite_temp_master) WHERE name = ? AND type in ('table', 'view')\n"
          ]
        },
        {
          "output_type": "stream",
          "name": "stdout",
          "text": [
            "2024-05-11 13:20:08,751 INFO sqlalchemy.engine.Engine [raw sql] ('salaries',)\n"
          ]
        },
        {
          "output_type": "stream",
          "name": "stderr",
          "text": [
            "INFO:sqlalchemy.engine.Engine:[raw sql] ('salaries',)\n"
          ]
        },
        {
          "output_type": "stream",
          "name": "stdout",
          "text": [
            "2024-05-11 13:20:08,754 INFO sqlalchemy.engine.Engine PRAGMA main.foreign_key_list(\"salaries\")\n"
          ]
        },
        {
          "output_type": "stream",
          "name": "stderr",
          "text": [
            "INFO:sqlalchemy.engine.Engine:PRAGMA main.foreign_key_list(\"salaries\")\n"
          ]
        },
        {
          "output_type": "stream",
          "name": "stdout",
          "text": [
            "2024-05-11 13:20:08,758 INFO sqlalchemy.engine.Engine [raw sql] ()\n"
          ]
        },
        {
          "output_type": "stream",
          "name": "stderr",
          "text": [
            "INFO:sqlalchemy.engine.Engine:[raw sql] ()\n"
          ]
        },
        {
          "output_type": "stream",
          "name": "stdout",
          "text": [
            "2024-05-11 13:20:08,761 INFO sqlalchemy.engine.Engine PRAGMA temp.foreign_key_list(\"salaries\")\n"
          ]
        },
        {
          "output_type": "stream",
          "name": "stderr",
          "text": [
            "INFO:sqlalchemy.engine.Engine:PRAGMA temp.foreign_key_list(\"salaries\")\n"
          ]
        },
        {
          "output_type": "stream",
          "name": "stdout",
          "text": [
            "2024-05-11 13:20:08,763 INFO sqlalchemy.engine.Engine [raw sql] ()\n"
          ]
        },
        {
          "output_type": "stream",
          "name": "stderr",
          "text": [
            "INFO:sqlalchemy.engine.Engine:[raw sql] ()\n"
          ]
        },
        {
          "output_type": "stream",
          "name": "stdout",
          "text": [
            "2024-05-11 13:20:08,767 INFO sqlalchemy.engine.Engine SELECT sql FROM  (SELECT * FROM sqlite_master UNION ALL   SELECT * FROM sqlite_temp_master) WHERE name = ? AND type in ('table', 'view')\n"
          ]
        },
        {
          "output_type": "stream",
          "name": "stderr",
          "text": [
            "INFO:sqlalchemy.engine.Engine:SELECT sql FROM  (SELECT * FROM sqlite_master UNION ALL   SELECT * FROM sqlite_temp_master) WHERE name = ? AND type in ('table', 'view')\n"
          ]
        },
        {
          "output_type": "stream",
          "name": "stdout",
          "text": [
            "2024-05-11 13:20:08,771 INFO sqlalchemy.engine.Engine [raw sql] ('salaries',)\n"
          ]
        },
        {
          "output_type": "stream",
          "name": "stderr",
          "text": [
            "INFO:sqlalchemy.engine.Engine:[raw sql] ('salaries',)\n"
          ]
        },
        {
          "output_type": "stream",
          "name": "stdout",
          "text": [
            "2024-05-11 13:20:08,774 INFO sqlalchemy.engine.Engine PRAGMA main.index_list(\"salaries\")\n"
          ]
        },
        {
          "output_type": "stream",
          "name": "stderr",
          "text": [
            "INFO:sqlalchemy.engine.Engine:PRAGMA main.index_list(\"salaries\")\n"
          ]
        },
        {
          "output_type": "stream",
          "name": "stdout",
          "text": [
            "2024-05-11 13:20:08,779 INFO sqlalchemy.engine.Engine [raw sql] ()\n"
          ]
        },
        {
          "output_type": "stream",
          "name": "stderr",
          "text": [
            "INFO:sqlalchemy.engine.Engine:[raw sql] ()\n"
          ]
        },
        {
          "output_type": "stream",
          "name": "stdout",
          "text": [
            "2024-05-11 13:20:08,782 INFO sqlalchemy.engine.Engine PRAGMA temp.index_list(\"salaries\")\n"
          ]
        },
        {
          "output_type": "stream",
          "name": "stderr",
          "text": [
            "INFO:sqlalchemy.engine.Engine:PRAGMA temp.index_list(\"salaries\")\n"
          ]
        },
        {
          "output_type": "stream",
          "name": "stdout",
          "text": [
            "2024-05-11 13:20:08,785 INFO sqlalchemy.engine.Engine [raw sql] ()\n"
          ]
        },
        {
          "output_type": "stream",
          "name": "stderr",
          "text": [
            "INFO:sqlalchemy.engine.Engine:[raw sql] ()\n"
          ]
        },
        {
          "output_type": "stream",
          "name": "stdout",
          "text": [
            "2024-05-11 13:20:08,788 INFO sqlalchemy.engine.Engine PRAGMA main.table_info(\"salaries\")\n"
          ]
        },
        {
          "output_type": "stream",
          "name": "stderr",
          "text": [
            "INFO:sqlalchemy.engine.Engine:PRAGMA main.table_info(\"salaries\")\n"
          ]
        },
        {
          "output_type": "stream",
          "name": "stdout",
          "text": [
            "2024-05-11 13:20:08,790 INFO sqlalchemy.engine.Engine [raw sql] ()\n"
          ]
        },
        {
          "output_type": "stream",
          "name": "stderr",
          "text": [
            "INFO:sqlalchemy.engine.Engine:[raw sql] ()\n"
          ]
        },
        {
          "output_type": "stream",
          "name": "stdout",
          "text": [
            "2024-05-11 13:20:08,794 INFO sqlalchemy.engine.Engine PRAGMA main.index_list(\"salaries\")\n"
          ]
        },
        {
          "output_type": "stream",
          "name": "stderr",
          "text": [
            "INFO:sqlalchemy.engine.Engine:PRAGMA main.index_list(\"salaries\")\n"
          ]
        },
        {
          "output_type": "stream",
          "name": "stdout",
          "text": [
            "2024-05-11 13:20:08,799 INFO sqlalchemy.engine.Engine [raw sql] ()\n"
          ]
        },
        {
          "output_type": "stream",
          "name": "stderr",
          "text": [
            "INFO:sqlalchemy.engine.Engine:[raw sql] ()\n"
          ]
        },
        {
          "output_type": "stream",
          "name": "stdout",
          "text": [
            "2024-05-11 13:20:08,805 INFO sqlalchemy.engine.Engine PRAGMA temp.index_list(\"salaries\")\n"
          ]
        },
        {
          "output_type": "stream",
          "name": "stderr",
          "text": [
            "INFO:sqlalchemy.engine.Engine:PRAGMA temp.index_list(\"salaries\")\n"
          ]
        },
        {
          "output_type": "stream",
          "name": "stdout",
          "text": [
            "2024-05-11 13:20:08,809 INFO sqlalchemy.engine.Engine [raw sql] ()\n"
          ]
        },
        {
          "output_type": "stream",
          "name": "stderr",
          "text": [
            "INFO:sqlalchemy.engine.Engine:[raw sql] ()\n"
          ]
        },
        {
          "output_type": "stream",
          "name": "stdout",
          "text": [
            "2024-05-11 13:20:08,814 INFO sqlalchemy.engine.Engine PRAGMA main.table_info(\"salaries\")\n"
          ]
        },
        {
          "output_type": "stream",
          "name": "stderr",
          "text": [
            "INFO:sqlalchemy.engine.Engine:PRAGMA main.table_info(\"salaries\")\n"
          ]
        },
        {
          "output_type": "stream",
          "name": "stdout",
          "text": [
            "2024-05-11 13:20:08,816 INFO sqlalchemy.engine.Engine [raw sql] ()\n"
          ]
        },
        {
          "output_type": "stream",
          "name": "stderr",
          "text": [
            "INFO:sqlalchemy.engine.Engine:[raw sql] ()\n"
          ]
        },
        {
          "output_type": "stream",
          "name": "stdout",
          "text": [
            "2024-05-11 13:20:08,819 INFO sqlalchemy.engine.Engine SELECT sql FROM  (SELECT * FROM sqlite_master UNION ALL   SELECT * FROM sqlite_temp_master) WHERE name = ? AND type in ('table', 'view')\n"
          ]
        },
        {
          "output_type": "stream",
          "name": "stderr",
          "text": [
            "INFO:sqlalchemy.engine.Engine:SELECT sql FROM  (SELECT * FROM sqlite_master UNION ALL   SELECT * FROM sqlite_temp_master) WHERE name = ? AND type in ('table', 'view')\n"
          ]
        },
        {
          "output_type": "stream",
          "name": "stdout",
          "text": [
            "2024-05-11 13:20:08,825 INFO sqlalchemy.engine.Engine [raw sql] ('salaries',)\n"
          ]
        },
        {
          "output_type": "stream",
          "name": "stderr",
          "text": [
            "INFO:sqlalchemy.engine.Engine:[raw sql] ('salaries',)\n"
          ]
        },
        {
          "output_type": "stream",
          "name": "stdout",
          "text": [
            "2024-05-11 13:20:08,830 INFO sqlalchemy.engine.Engine \n",
            "DROP TABLE salaries\n"
          ]
        },
        {
          "output_type": "stream",
          "name": "stderr",
          "text": [
            "INFO:sqlalchemy.engine.Engine:\n",
            "DROP TABLE salaries\n"
          ]
        },
        {
          "output_type": "stream",
          "name": "stdout",
          "text": [
            "2024-05-11 13:20:08,835 INFO sqlalchemy.engine.Engine [no key 0.00515s] ()\n"
          ]
        },
        {
          "output_type": "stream",
          "name": "stderr",
          "text": [
            "INFO:sqlalchemy.engine.Engine:[no key 0.00515s] ()\n"
          ]
        },
        {
          "output_type": "stream",
          "name": "stdout",
          "text": [
            "2024-05-11 13:20:08,907 INFO sqlalchemy.engine.Engine \n",
            "CREATE TABLE salaries (\n",
            "\twork_year BIGINT, \n",
            "\texperience_level TEXT, \n",
            "\temployment_type TEXT, \n",
            "\tjob_title TEXT, \n",
            "\tsalary BIGINT, \n",
            "\tsalary_currency TEXT, \n",
            "\tsalary_in_usd BIGINT, \n",
            "\temployee_residence TEXT, \n",
            "\tremote_ratio BIGINT, \n",
            "\tcompany_location TEXT, \n",
            "\tcompany_size TEXT\n",
            ")\n",
            "\n",
            "\n"
          ]
        },
        {
          "output_type": "stream",
          "name": "stderr",
          "text": [
            "INFO:sqlalchemy.engine.Engine:\n",
            "CREATE TABLE salaries (\n",
            "\twork_year BIGINT, \n",
            "\texperience_level TEXT, \n",
            "\temployment_type TEXT, \n",
            "\tjob_title TEXT, \n",
            "\tsalary BIGINT, \n",
            "\tsalary_currency TEXT, \n",
            "\tsalary_in_usd BIGINT, \n",
            "\temployee_residence TEXT, \n",
            "\tremote_ratio BIGINT, \n",
            "\tcompany_location TEXT, \n",
            "\tcompany_size TEXT\n",
            ")\n",
            "\n",
            "\n"
          ]
        },
        {
          "output_type": "stream",
          "name": "stdout",
          "text": [
            "2024-05-11 13:20:08,913 INFO sqlalchemy.engine.Engine [no key 0.00600s] ()\n"
          ]
        },
        {
          "output_type": "stream",
          "name": "stderr",
          "text": [
            "INFO:sqlalchemy.engine.Engine:[no key 0.00600s] ()\n"
          ]
        },
        {
          "output_type": "stream",
          "name": "stdout",
          "text": [
            "2024-05-11 13:20:09,223 INFO sqlalchemy.engine.Engine INSERT INTO salaries (work_year, experience_level, employment_type, job_title, salary, salary_currency, salary_in_usd, employee_residence, remote_ratio, company_location, company_size) VALUES (?, ?, ?, ?, ?, ?, ?, ?, ?, ?, ?)\n"
          ]
        },
        {
          "output_type": "stream",
          "name": "stderr",
          "text": [
            "INFO:sqlalchemy.engine.Engine:INSERT INTO salaries (work_year, experience_level, employment_type, job_title, salary, salary_currency, salary_in_usd, employee_residence, remote_ratio, company_location, company_size) VALUES (?, ?, ?, ?, ?, ?, ?, ?, ?, ?, ?)\n"
          ]
        },
        {
          "output_type": "stream",
          "name": "stdout",
          "text": [
            "2024-05-11 13:20:09,228 INFO sqlalchemy.engine.Engine [generated in 0.22507s] [(2024, 'MI', 'FT', 'Data Scientist', 120000, 'USD', 120000, 'AU', 0, 'AU', 'S'), (2024, 'MI', 'FT', 'Data Scientist', 70000, 'USD', 70000, 'AU', 0, 'AU', 'S'), (2024, 'MI', 'CT', 'Data Scientist', 130000, 'USD', 130000, 'US', 0, 'US', 'M'), (2024, 'MI', 'CT', 'Data Scientist', 110000, 'USD', 110000, 'US', 0, 'US', 'M'), (2024, 'MI', 'FT', 'Data Science Manager', 240000, 'USD', 240000, 'US', 0, 'US', 'M'), (2024, 'MI', 'FT', 'Data Science Manager', 180000, 'USD', 180000, 'US', 0, 'US', 'M'), (2024, 'SE', 'FT', 'Business Intelligence Engineer', 202800, 'USD', 202800, 'US', 0, 'US', 'M'), (2024, 'SE', 'FT', 'Business Intelligence Engineer', 115000, 'USD', 115000, 'US', 0, 'US', 'M')  ... displaying 10 of 10093 total bound parameter sets ...  (2020, 'EN', 'CT', 'Business Data Analyst', 100000, 'USD', 100000, 'US', 100, 'US', 'L'), (2021, 'SE', 'FT', 'Data Science Manager', 7000000, 'INR', 94665, 'IN', 50, 'IN', 'L')]\n"
          ]
        },
        {
          "output_type": "stream",
          "name": "stderr",
          "text": [
            "INFO:sqlalchemy.engine.Engine:[generated in 0.22507s] [(2024, 'MI', 'FT', 'Data Scientist', 120000, 'USD', 120000, 'AU', 0, 'AU', 'S'), (2024, 'MI', 'FT', 'Data Scientist', 70000, 'USD', 70000, 'AU', 0, 'AU', 'S'), (2024, 'MI', 'CT', 'Data Scientist', 130000, 'USD', 130000, 'US', 0, 'US', 'M'), (2024, 'MI', 'CT', 'Data Scientist', 110000, 'USD', 110000, 'US', 0, 'US', 'M'), (2024, 'MI', 'FT', 'Data Science Manager', 240000, 'USD', 240000, 'US', 0, 'US', 'M'), (2024, 'MI', 'FT', 'Data Science Manager', 180000, 'USD', 180000, 'US', 0, 'US', 'M'), (2024, 'SE', 'FT', 'Business Intelligence Engineer', 202800, 'USD', 202800, 'US', 0, 'US', 'M'), (2024, 'SE', 'FT', 'Business Intelligence Engineer', 115000, 'USD', 115000, 'US', 0, 'US', 'M')  ... displaying 10 of 10093 total bound parameter sets ...  (2020, 'EN', 'CT', 'Business Data Analyst', 100000, 'USD', 100000, 'US', 100, 'US', 'L'), (2021, 'SE', 'FT', 'Data Science Manager', 7000000, 'INR', 94665, 'IN', 50, 'IN', 'L')]\n"
          ]
        },
        {
          "output_type": "stream",
          "name": "stdout",
          "text": [
            "2024-05-11 13:20:09,268 INFO sqlalchemy.engine.Engine COMMIT\n"
          ]
        },
        {
          "output_type": "stream",
          "name": "stderr",
          "text": [
            "INFO:sqlalchemy.engine.Engine:COMMIT\n"
          ]
        }
      ]
    },
    {
      "cell_type": "code",
      "source": [
        "from sqlalchemy import create_engine, text\n",
        "\n",
        "# Создаем соединение с базой данных SQLite\n",
        "engine = create_engine('sqlite:///salaries.db')\n",
        "\n",
        "# Создаем объект соединения\n",
        "connection = engine.connect()\n",
        "\n",
        "# Выполняем SQL запросы\n",
        "query1 = text(\"SELECT experience_level, AVG(salary) AS avg_salary FROM salaries GROUP BY experience_level;\")\n",
        "result1 = connection.execute(query1).fetchall()\n",
        "\n",
        "query2 = text(\"SELECT employment_type, AVG(salary) AS avg_salary FROM salaries GROUP BY employment_type;\")\n",
        "result2 = connection.execute(query2).fetchall()\n",
        "\n",
        "query3 = text(\"SELECT job_title, AVG(salary) AS avg_salary FROM salaries GROUP BY job_title;\")\n",
        "result3 = connection.execute(query3).fetchall()\n",
        "\n",
        "query4 = text(\"SELECT company_size, AVG(salary) AS avg_salary FROM salaries GROUP BY company_size;\")\n",
        "result4 = connection.execute(query4).fetchall()\n",
        "\n",
        "# Выводим результаты\n",
        "print(\"Средняя зарплата по уровню опыта:\")\n",
        "for row in result1:\n",
        "    print(row)\n",
        "\n",
        "print(\"\\nСредняя зарплата по типу занятости:\")\n",
        "for row in result2:\n",
        "    print(row)\n",
        "\n",
        "print(\"\\nСредняя зарплата по должностям:\")\n",
        "for row in result3:\n",
        "    print(row)\n",
        "\n",
        "print(\"\\nСредняя зарплата по размеру компании:\")\n",
        "for row in result4:\n",
        "    print(row)\n",
        "\n",
        "# Закрываем соединение с базой данных\n",
        "connection.close()\n",
        "\n"
      ],
      "metadata": {
        "colab": {
          "base_uri": "https://localhost:8080/"
        },
        "id": "u-nqOpWxrL9v",
        "outputId": "e61335df-83a0-47cb-a458-65706747c1d2"
      },
      "execution_count": 55,
      "outputs": [
        {
          "output_type": "stream",
          "name": "stdout",
          "text": [
            "Средняя зарплата по уровню опыта:\n",
            "('EN', 135689.66865079364)\n",
            "('EX', 211888.62210796916)\n",
            "('MI', 170081.64584090083)\n",
            "('SE', 172782.94447248866)\n",
            "\n",
            "Средняя зарплата по типу занятости:\n",
            "('CT', 115664.14285714286)\n",
            "('FL', 430182.5)\n",
            "('FT', 169865.80375511834)\n",
            "('PT', 109374.36842105263)\n",
            "\n",
            "Средняя зарплата по должностям:\n",
            "('AI Architect', 248089.13043478262)\n",
            "('AI Developer', 134684.2105263158)\n",
            "('AI Engineer', 166623.06796116504)\n",
            "('AI Product Manager', 141766.66666666666)\n",
            "('AI Programmer', 764400.8571428572)\n",
            "('AI Research Engineer', 360871.4285714286)\n",
            "('AI Research Scientist', 104833.33333333333)\n",
            "('AI Scientist', 225145.42307692306)\n",
            "('AI Software Engineer', 287640.0)\n",
            "('AWS Data Architect', 258000.0)\n",
            "('Admin & Data Analyst', 60750.0)\n",
            "('Analytics Engineer', 158741.85310734462)\n",
            "('Analytics Engineering Manager', 325000.0)\n",
            "('Applied Data Scientist', 226884.61538461538)\n",
            "('Applied Machine Learning Engineer', 140000.0)\n",
            "('Applied Machine Learning Scientist', 554842.8571428572)\n",
            "('Applied Research Scientist', 60000.0)\n",
            "('Applied Scientist', 190894.07857142857)\n",
            "('Autonomous Vehicle Technician', 82777.5)\n",
            "('Azure Data Engineer', 100000.0)\n",
            "('BI Analyst', 126224.25)\n",
            "('BI Data Analyst', 645526.3157894737)\n",
            "('BI Data Engineer', 60000.0)\n",
            "('BI Developer', 97600.25396825396)\n",
            "('Bear Robotics', 167500.0)\n",
            "('Big Data Architect', 124999.5)\n",
            "('Big Data Developer', 117000.0)\n",
            "('Big Data Engineer', 492300.0)\n",
            "('Business Data Analyst', 206857.14285714287)\n",
            "('Business Intelligence', 143010.6)\n",
            "('Business Intelligence Analyst', 113313.04651162791)\n",
            "('Business Intelligence Data Analyst', 95000.0)\n",
            "('Business Intelligence Developer', 97999.48)\n",
            "('Business Intelligence Engineer', 135395.87272727274)\n",
            "('Business Intelligence Lead', 140586.875)\n",
            "('Business Intelligence Manager', 135215.0)\n",
            "('Business Intelligence Specialist', 132261.5)\n",
            "('CRM Data Analyst', 40000.0)\n",
            "('Cloud Data Architect', 250000.0)\n",
            "('Cloud Data Engineer', 131000.0)\n",
            "('Cloud Database Engineer', 142818.18181818182)\n",
            "('Compliance Data Analyst', 45000.0)\n",
            "('Computational Biologist', 216750.0)\n",
            "('Computer Vision Engineer', 215446.66666666666)\n",
            "('Computer Vision Software Engineer', 94200.0)\n",
            "('Consultant Data Engineer', 105000.0)\n",
            "('Data Analyst', 110739.9529326575)\n",
            "('Data Analyst Lead', 109000.0)\n",
            "('Data Analytics Associate', 91000.0)\n",
            "('Data Analytics Consultant', 86690.625)\n",
            "('Data Analytics Engineer', 76400.0)\n",
            "('Data Analytics Lead', 254200.5)\n",
            "('Data Analytics Manager', 203082.76086956522)\n",
            "('Data Analytics Specialist', 98811.125)\n",
            "('Data Architect', 161645.3950177936)\n",
            "('Data DevOps Engineer', 60794.0)\n",
            "('Data Developer', 98801.26086956522)\n",
            "('Data Engineer', 151226.9994562262)\n",
            "('Data Infrastructure Engineer', 204192.04545454544)\n",
            "('Data Integration Developer', 140580.75)\n",
            "('Data Integration Engineer', 122373.14285714286)\n",
            "('Data Integration Specialist', 282134.375)\n",
            "('Data Lead', 153747.45833333334)\n",
            "('Data Management Analyst', 95541.9)\n",
            "('Data Management Consultant', 92500.0)\n",
            "('Data Management Specialist', 104529.36363636363)\n",
            "('Data Manager', 110297.27358490566)\n",
            "('Data Modeler', 130376.875)\n",
            "('Data Modeller', 67500.0)\n",
            "('Data Operations Analyst', 96495.21739130435)\n",
            "('Data Operations Associate', 75562.5)\n",
            "('Data Operations Engineer', 151241.66666666666)\n",
            "('Data Operations Manager', 123000.0)\n",
            "('Data Operations Specialist', 87634.0)\n",
            "('Data Pipeline Engineer', 172500.0)\n",
            "('Data Product Manager', 160459.66666666666)\n",
            "('Data Product Owner', 119791.75)\n",
            "('Data Quality Analyst', 79704.44444444444)\n",
            "('Data Quality Engineer', 100000.0)\n",
            "('Data Quality Manager', 77500.0)\n",
            "('Data Reporting Analyst', 70250.0)\n",
            "('Data Science', 157835.9563106796)\n",
            "('Data Science Analyst', 101000.0)\n",
            "('Data Science Consultant', 121152.94117647059)\n",
            "('Data Science Director', 180000.0)\n",
            "('Data Science Engineer', 142922.55172413794)\n",
            "('Data Science Lead', 167362.125)\n",
            "('Data Science Manager', 355994.0)\n",
            "('Data Science Practitioner', 130241.66666666667)\n",
            "('Data Science Tech Lead', 375000.0)\n",
            "('Data Scientist', 195128.87186477645)\n",
            "('Data Scientist Lead', 134000.0)\n",
            "('Data Specialist', 91082.44736842105)\n",
            "('Data Strategist', 105505.78947368421)\n",
            "('Data Strategy Manager', 138750.0)\n",
            "('Data Visualization Analyst', 120000.0)\n",
            "('Data Visualization Engineer', 122975.0)\n",
            "('Data Visualization Specialist', 112515.21428571429)\n",
            "('Decision Scientist', 155192.3076923077)\n",
            "('Deep Learning Engineer', 178992.0)\n",
            "('Deep Learning Researcher', 115000.0)\n",
            "('Director of Business Intelligence', 187500.0)\n",
            "('Director of Data Science', 209227.09677419355)\n",
            "('ETL Developer', 119961.73913043478)\n",
            "('ETL Engineer', 89166.66666666667)\n",
            "('Encounter Data Management Professional', 72812.5)\n",
            "('Finance Data Analyst', 128333.33333333333)\n",
            "('Financial Data Analyst', 90375.0)\n",
            "('Head of Data', 205638.0)\n",
            "('Head of Data Science', 584630.4166666666)\n",
            "('Head of Machine Learning', 1146000.0)\n",
            "('Insight Analyst', 44200.0)\n",
            "('Lead Data Analyst', 1095833.3333333333)\n",
            "('Lead Data Engineer', 140333.33333333334)\n",
            "('Lead Data Scientist', 771578.9090909091)\n",
            "('Lead Machine Learning Engineer', 1566200.0)\n",
            "('ML Engineer', 284429.52352941176)\n",
            "('ML Ops Engineer', 156400.0)\n",
            "('MLOps Engineer', 151752.1739130435)\n",
            "('Machine Learning Developer', 84300.0)\n",
            "('Machine Learning Engineer', 189337.217989418)\n",
            "('Machine Learning Infrastructure Engineer', 165592.12121212122)\n",
            "('Machine Learning Manager', 156750.0)\n",
            "('Machine Learning Modeler', 173350.0)\n",
            "('Machine Learning Operations Engineer', 136527.77777777778)\n",
            "('Machine Learning Research Engineer', 67600.0)\n",
            "('Machine Learning Researcher', 153715.0)\n",
            "('Machine Learning Scientist', 190181.59633027524)\n",
            "('Machine Learning Software Engineer', 359653.3333333333)\n",
            "('Machine Learning Specialist', 55000.0)\n",
            "('Manager Data Management', 1562500.0)\n",
            "('Managing Director Data Science', 280000.0)\n",
            "('Marketing Data Analyst', 137500.0)\n",
            "('Marketing Data Engineer', 90000.0)\n",
            "('Marketing Data Scientist', 90000.0)\n",
            "('NLP Engineer', 316713.3333333333)\n",
            "('Power BI Developer', 60000.0)\n",
            "('Principal Data Analyst', 122500.0)\n",
            "('Principal Data Architect', 3000000.0)\n",
            "('Principal Data Engineer', 156666.66666666666)\n",
            "('Principal Data Scientist', 188200.0)\n",
            "('Principal Machine Learning Engineer', 181666.66666666666)\n",
            "('Product Data Analyst', 291700.0)\n",
            "('Prompt Engineer', 204831.11764705883)\n",
            "('Quantitative Research Analyst', 51000.0)\n",
            "('Research Analyst', 109519.90265486726)\n",
            "('Research Engineer', 206518.06880733944)\n",
            "('Research Scientist', 187526.0)\n",
            "('Robotics Engineer', 140416.66666666666)\n",
            "('Robotics Software Engineer', 196625.0)\n",
            "('Sales Data Analyst', 60000.0)\n",
            "('Software Data Engineer', 120000.0)\n",
            "('Staff Data Analyst', 84999.33333333333)\n",
            "('Staff Data Scientist', 134500.0)\n",
            "('Staff Machine Learning Engineer', 185000.0)\n",
            "\n",
            "Средняя зарплата по размеру компании:\n",
            "('L', 393473.4477379095)\n",
            "('M', 152040.0327037237)\n",
            "('S', 285648.5935828877)\n"
          ]
        }
      ]
    },
    {
      "cell_type": "code",
      "source": [
        "import pandas as pd\n",
        "import matplotlib.pyplot as plt\n",
        "from sqlalchemy import create_engine\n",
        "\n",
        "# Создаем соединение с базой данных SQLite\n",
        "engine = create_engine('sqlite:///salaries.db')\n",
        "\n",
        "# Читаем данные из базы данных в DataFrame с помощью SQL запроса\n",
        "query = \"SELECT experience_level, AVG(salary) AS avg_salary FROM salaries GROUP BY experience_level;\"\n",
        "experience_df = pd.read_sql_query(query, engine)\n",
        "\n",
        "# Визуализируем среднюю зарплату по уровню опыта\n",
        "plt.figure(figsize=(10, 6))\n",
        "plt.bar(experience_df['experience_level'], experience_df['avg_salary'], color='skyblue')\n",
        "plt.xlabel('Уровень опыта')\n",
        "plt.ylabel('Средняя зарплата')\n",
        "plt.title('Средняя зарплата по уровню опыта')\n",
        "plt.show()\n",
        "\n",
        "# Повторяем те же шаги для других запросов и типов визуализаций\n",
        "# ...\n",
        "\n",
        "# Закрываем соединение с базой данных\n",
        "engine.dispose()\n"
      ],
      "metadata": {
        "colab": {
          "base_uri": "https://localhost:8080/",
          "height": 564
        },
        "id": "0u8Erfmb1LZs",
        "outputId": "83470506-01d4-4bd8-e23e-23c4046e5270"
      },
      "execution_count": 56,
      "outputs": [
        {
          "output_type": "display_data",
          "data": {
            "text/plain": [
              "<Figure size 1000x600 with 1 Axes>"
            ],
            "image/png": "[encoded data removed]"
          },
          "metadata": {}
        }
      ]
    },
    {
      "cell_type": "code",
      "source": [
        "# Читаем данные из базы данных для средней зарплаты по типу занятости\n",
        "query = \"SELECT employment_type, AVG(salary) AS avg_salary FROM salaries GROUP BY employment_type;\"\n",
        "employment_df = pd.read_sql_query(query, engine)\n",
        "\n",
        "# Визуализируем среднюю зарплату по типу занятости\n",
        "plt.figure(figsize=(10, 6))\n",
        "plt.bar(employment_df['employment_type'], employment_df['avg_salary'], color='lightgreen')\n",
        "plt.xlabel('Тип занятости')\n",
        "plt.ylabel('Средняя зарплата')\n",
        "plt.title('Средняя зарплата по типу занятости')\n",
        "plt.show()\n"
      ],
      "metadata": {
        "colab": {
          "base_uri": "https://localhost:8080/",
          "height": 564
        },
        "id": "s3GB1zjC1fU7",
        "outputId": "e8a83fe1-8093-4f64-b9e9-5d1f365b5774"
      },
      "execution_count": 57,
      "outputs": [
        {
          "output_type": "display_data",
          "data": {
            "text/plain": [
              "<Figure size 1000x600 with 1 Axes>"
            ],
            "image/png": "[encoded data removed]"
          },
          "metadata": {}
        }
      ]
    },
    {
      "cell_type": "code",
      "source": [
        "# Создаем отдельные списки зарплат для каждой должности\n",
        "salary_data_scientist = df[df['job_title'] == 'Data Scientist']['salary']\n",
        "salary_data_engineer = df[df['job_title'] == 'Data Engineer']['salary']\n",
        "salary_analyst = df[df['job_title'] == 'Data Analyst']['salary']\n",
        "\n",
        "# Создаем диаграмму рассеяния с группировкой по должности\n",
        "plt.figure(figsize=(12, 8))\n",
        "plt.scatter([1] * len(salary_data_scientist), salary_data_scientist, color='blue', label='Data Scientist', alpha=0.5)\n",
        "plt.scatter([2] * len(salary_data_engineer), salary_data_engineer, color='orange', label='Data Engineer', alpha=0.5)\n",
        "plt.scatter([3] * len(salary_analyst), salary_analyst, color='green', label='Data Analyst', alpha=0.5)\n",
        "\n",
        "plt.xticks([1, 2, 3], ['Data Scientist', 'Data Engineer', 'Data Analyst'])\n",
        "plt.xlabel('Должность')\n",
        "plt.ylabel('Зарплата')\n",
        "plt.title('Сравнение уровня заработной платы по различным должностям')\n",
        "plt.legend()\n",
        "plt.grid(True)\n",
        "plt.show()\n",
        "\n"
      ],
      "metadata": {
        "colab": {
          "base_uri": "https://localhost:8080/",
          "height": 718
        },
        "id": "ho3mjHB41yNj",
        "outputId": "ce723ab6-530f-49ef-f307-5c0c5e0e3f8a"
      },
      "execution_count": 68,
      "outputs": [
        {
          "output_type": "display_data",
          "data": {
            "text/plain": [
              "<Figure size 1200x800 with 1 Axes>"
            ],
            "image/png": "[encoded data removed]"
          },
          "metadata": {}
        }
      ]
    },
    {
      "cell_type": "code",
      "source": [
        "\n"
      ],
      "metadata": {
        "id": "Oo_aYTyy2FYe"
      },
      "execution_count": 61,
      "outputs": []
    },
    {
      "cell_type": "code",
      "source": [
        "\n"
      ],
      "metadata": {
        "id": "0rFHdTU52Utk"
      },
      "execution_count": 63,
      "outputs": []
    },
    {
      "cell_type": "code",
      "source": [],
      "metadata": {
        "id": "sN6LfZLo3QL1"
      },
      "execution_count": 63,
      "outputs": []
    },
    {
      "cell_type": "code",
      "source": [
        "# Создаем отдельные списки зарплат для каждого размера компании\n",
        "salary_small = salary_company_size_df[salary_company_size_df['company_size'] == 'S']['salary']\n",
        "salary_medium = salary_company_size_df[salary_company_size_df['company_size'] == 'M']['salary']\n",
        "salary_large = salary_company_size_df[salary_company_size_df['company_size'] == 'L']['salary']\n",
        "\n",
        "# Создаем диаграмму рассеяния с группировкой по размеру компании\n",
        "plt.figure(figsize=(12, 8))\n",
        "plt.scatter([1] * len(salary_small), salary_small, color='blue', label='Small', alpha=0.5)\n",
        "plt.scatter([2] * len(salary_medium), salary_medium, color='orange', label='Medium', alpha=0.5)\n",
        "plt.scatter([3] * len(salary_large), salary_large, color='green', label='Large', alpha=0.5)\n",
        "\n",
        "plt.xticks([1, 2, 3], ['Small', 'Medium', 'Large'])\n",
        "plt.xlabel('Размер компании')\n",
        "plt.ylabel('Зарплата')\n",
        "plt.title('Сравнение уровня заработной платы в зависимости от размера компании')\n",
        "plt.legend()\n",
        "plt.grid(True)\n",
        "plt.show()\n"
      ],
      "metadata": {
        "colab": {
          "base_uri": "https://localhost:8080/",
          "height": 718
        },
        "id": "dhNf2Nm23ibh",
        "outputId": "f5249b8a-57e6-4e34-990e-a0e10a14d06f"
      },
      "execution_count": 66,
      "outputs": [
        {
          "output_type": "display_data",
          "data": {
            "text/plain": [
              "<Figure size 1200x800 with 1 Axes>"
            ],
            "image/png": "[encoded data removed]"
          },
          "metadata": {}
        }
      ]
    }
  ]
}