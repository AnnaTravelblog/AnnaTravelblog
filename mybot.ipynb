{
  "nbformat": 4,
  "nbformat_minor": 0,
  "metadata": {
    "colab": {
      "provenance": [],
      "authorship_tag": "ABX9TyO6US5rJE8H3j6qp2p+I+dM",
      "include_colab_link": true
    },
    "kernelspec": {
      "name": "python3",
      "display_name": "Python 3"
    },
    "language_info": {
      "name": "python"
    }
  },
  "cells": [
    {
      "cell_type": "markdown",
      "metadata": {
        "id": "view-in-github",
        "colab_type": "text"
      },
      "source": [
        "<a href=\"https://colab.research.google.com/github/AnnaTravelblog/AnnaTravelblog/blob/main/mybot.ipynb\" target=\"_parent\"><img src=\"https://colab.research.google.com/assets/colab-badge.svg\" alt=\"Open In Colab\"/></a>"
      ]
    },
    {
      "cell_type": "code",
      "source": [
        "!pip install python-telegram-bot==13.7"
      ],
      "metadata": {
        "id": "c1uKCV4t2M_a",
        "colab": {
          "base_uri": "https://localhost:8080/"
        },
        "outputId": "2de39fb7-798b-44ea-fae3-cae14b0e732c"
      },
      "execution_count": 8,
      "outputs": [
        {
          "output_type": "stream",
          "name": "stdout",
          "text": [
            "Requirement already satisfied: python-telegram-bot==13.7 in /usr/local/lib/python3.10/dist-packages (13.7)\n",
            "Requirement already satisfied: certifi in /usr/local/lib/python3.10/dist-packages (from python-telegram-bot==13.7) (2024.2.2)\n",
            "Requirement already satisfied: tornado>=6.1 in /usr/local/lib/python3.10/dist-packages (from python-telegram-bot==13.7) (6.3.3)\n",
            "Requirement already satisfied: APScheduler==3.6.3 in /usr/local/lib/python3.10/dist-packages (from python-telegram-bot==13.7) (3.6.3)\n",
            "Requirement already satisfied: pytz>=2018.6 in /usr/local/lib/python3.10/dist-packages (from python-telegram-bot==13.7) (2023.4)\n",
            "Requirement already satisfied: cachetools==4.2.2 in /usr/local/lib/python3.10/dist-packages (from python-telegram-bot==13.7) (4.2.2)\n",
            "Requirement already satisfied: setuptools>=0.7 in /usr/local/lib/python3.10/dist-packages (from APScheduler==3.6.3->python-telegram-bot==13.7) (67.7.2)\n",
            "Requirement already satisfied: six>=1.4.0 in /usr/local/lib/python3.10/dist-packages (from APScheduler==3.6.3->python-telegram-bot==13.7) (1.16.0)\n",
            "Requirement already satisfied: tzlocal>=1.2 in /usr/local/lib/python3.10/dist-packages (from APScheduler==3.6.3->python-telegram-bot==13.7) (5.2)\n"
          ]
        }
      ]
    },
    {
      "cell_type": "code",
      "execution_count": 9,
      "metadata": {
        "id": "zXzLQ94N1zlf"
      },
      "outputs": [],
      "source": [
        "from telegram import Update, InlineKeyboardButton, InlineKeyboardMarkup\n",
        "from telegram.ext import Updater, CommandHandler, MessageHandler, Filters, CallbackContext\n",
        "from telegram.ext import CallbackContext\n",
        "import os\n",
        "import random\n",
        "import requests"
      ]
    },
    {
      "cell_type": "code",
      "source": [
        "TOKEN = '6961002291:AAEoE46aCyQJwUUqqZzVel7m10_5tvTIMYY'\n",
        "OPENWEATHERMAP_API_KEY = 'f98028a3cd35a770ee7e30d447f45301'\n",
        "\n",
        "BASE_URL = f'https://api.telegram.org/bot{TOKEN}/'\n",
        "WEATHER_API_URL = 'https://api.openweathermap.org/data/2.5/weather?'\n",
        "\n",
        "# Приветственные сообщения\n",
        "GREETINGS = [\n",
        "    \"Привет! Я твой путешественник-бот. Готов помочь с планированием твоих следующих приключений!\",\n",
        "    \"Здравствуй! Я готов отправиться с тобой в путешествие!\",\n",
        "    \"Приветствую тебя, путешественник! Куда собираешься отправиться?\",\n",
        "    \"Привет! Я здесь, чтобы помочь тебе с выбором следующего направления для путешествия.\"\n",
        "]\n",
        "\n",
        "DESTINATIONS = {\n",
        "    \"париж\": \"Париж - прекрасный город! Обязательно посети Эйфелеву башню и Лувр.\",\n",
        "    \"токио\": \"Токио - удивительный город! Не пропусти Цукадзи и Сенсодзи.\",\n",
        "    \"рим\": \"Рим - великолепный город! Посети Колизей и Ватикан.\",\n",
        "\n",
        "}\n",
        "\n",
        "def handle_message(update: Update, context: CallbackContext) -> None:\n",
        "    text = update.message.text.lower()\n",
        "    destination = DESTINATIONS.get(text)\n",
        "    if destination:\n",
        "        weather_info = get_weather_info(text)\n",
        "        send_message(update.message.chat_id, f\"{destination}\\n\\n{weather_info}\")\n",
        "    elif \"спасибо\" in text:\n",
        "        send_message(update.message.chat_id, \"Пожалуйста!\")\n",
        "    elif \"всегда пожалуйста\" in text:\n",
        "        send_message(update.message.chat_id, \"Рад помочь!\")\n",
        "    else:\n",
        "        send_message(update.message.chat_id, \"Я не знаю такого места. Может быть, выбери что-то другое?\")\n",
        "\n",
        "def get_weather_info(city: str) -> str:\n",
        "    params = {'q': city, 'appid': OPENWEATHERMAP_API_KEY, 'units': 'metric', 'lang': 'ru'}\n",
        "    response = requests.get(WEATHER_API_URL, params=params)\n",
        "    if response.status_code == 200:\n",
        "        data = response.json()\n",
        "        weather_description = data['weather'][0]['description']\n",
        "        temperature = data['main']['temp']\n",
        "        return f\"Погода в {city.capitalize()}: {weather_description}, Температура: {temperature}°C\"\n",
        "    else:\n",
        "        return \"Информация о погоде недоступна.\"\n",
        "\n",
        "def send_message(chat_id, text, reply_markup=None):\n",
        "    data = {\n",
        "        'chat_id': chat_id,\n",
        "        'text': text,\n",
        "        'reply_markup': reply_markup\n",
        "    }\n",
        "    response = requests.post(BASE_URL + 'sendMessage', data=data)\n",
        "    print(response.json())\n",
        "\n",
        "def start(update, context):\n",
        "    update.message.reply_text(random.choice(GREETINGS) + \" В какой город вы хотите поехать?\")\n",
        "\n",
        "def main():\n",
        "    updater = Updater(TOKEN)\n",
        "    dispatcher = updater.dispatcher\n",
        "\n",
        "    # Обработчик команды /start\n",
        "    dispatcher.add_handler(CommandHandler(\"start\", start))\n",
        "\n",
        "    # Добавление обработчика для обычных текстовых сообщений\n",
        "    dispatcher.add_handler(MessageHandler(Filters.text & ~Filters.command, handle_message))\n",
        "\n",
        "    updater.start_polling()\n",
        "    updater.idle()\n",
        "\n",
        "if __name__ == '__main__':\n",
        "    main()"
      ],
      "metadata": {
        "colab": {
          "base_uri": "https://localhost:8080/"
        },
        "id": "vysGzZRc159a",
        "outputId": "7a1e8428-c1b2-4899-83a7-8eff4f601c7f"
      },
      "execution_count": null,
      "outputs": [
        {
          "output_type": "stream",
          "name": "stdout",
          "text": [
            "{'ok': True, 'result': {'message_id': 183, 'from': {'id': 6961002291, 'is_bot': True, 'first_name': 'AnnaTravelblog', 'username': 'vbn222_bot'}, 'chat': {'id': 1134454737, 'first_name': 'Анна', 'last_name': 'Руд', 'username': 'AnnaRudetckaia', 'type': 'private'}, 'date': 1712599922, 'text': 'Рим - великолепный город! Посети Колизей и Ватикан.\\n\\nПогода в Рим: ясно, Температура: 16.44°C'}}\n"
          ]
        }
      ]
    }
  ]
}